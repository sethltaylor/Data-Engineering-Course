{
 "cells": [
  {
   "cell_type": "code",
   "execution_count": 2,
   "id": "6aad806b",
   "metadata": {},
   "outputs": [],
   "source": [
    "import pyspark\n",
    "from pyspark.sql import SparkSession\n",
    "import findspark\n",
    "import pandas as pd"
   ]
  },
  {
   "cell_type": "code",
   "execution_count": 3,
   "id": "e1cb3fc2",
   "metadata": {},
   "outputs": [],
   "source": [
    "findspark.init()"
   ]
  },
  {
   "cell_type": "code",
   "execution_count": 4,
   "id": "a374b12c",
   "metadata": {},
   "outputs": [],
   "source": [
    "spark = SparkSession.builder \\\n",
    "    .master(\"local[*]\") \\\n",
    "    .appName('test') \\\n",
    "    .getOrCreate()"
   ]
  },
  {
   "cell_type": "code",
   "execution_count": null,
   "id": "02334cfa",
   "metadata": {},
   "outputs": [],
   "source": [
    "!wget https://github.com/DataTalksClub/nyc-tlc-data/releases/download/fhvhv/fhvhv_tripdata_2021-01.csv.gz"
   ]
  },
  {
   "cell_type": "code",
   "execution_count": 5,
   "id": "bea03b3c",
   "metadata": {},
   "outputs": [
    {
     "name": "stdout",
     "output_type": "stream",
     "text": [
      "+-----------------+--------------------+-------------------+-------------------+------------+------------+-------+\n",
      "|hvfhs_license_num|dispatching_base_num|    pickup_datetime|   dropoff_datetime|PULocationID|DOLocationID|SR_Flag|\n",
      "+-----------------+--------------------+-------------------+-------------------+------------+------------+-------+\n",
      "|           HV0003|              B02682|2021-01-01 00:33:44|2021-01-01 00:49:07|         230|         166|   NULL|\n",
      "|           HV0003|              B02682|2021-01-01 00:55:19|2021-01-01 01:18:21|         152|         167|   NULL|\n",
      "|           HV0003|              B02764|2021-01-01 00:23:56|2021-01-01 00:38:05|         233|         142|   NULL|\n",
      "|           HV0003|              B02764|2021-01-01 00:42:51|2021-01-01 00:45:50|         142|         143|   NULL|\n",
      "|           HV0003|              B02764|2021-01-01 00:48:14|2021-01-01 01:08:42|         143|          78|   NULL|\n",
      "|           HV0005|              B02510|2021-01-01 00:06:59|2021-01-01 00:43:01|          88|          42|   NULL|\n",
      "|           HV0005|              B02510|2021-01-01 00:50:00|2021-01-01 01:04:57|          42|         151|   NULL|\n",
      "|           HV0003|              B02764|2021-01-01 00:14:30|2021-01-01 00:50:27|          71|         226|   NULL|\n",
      "|           HV0003|              B02875|2021-01-01 00:22:54|2021-01-01 00:30:20|         112|         255|   NULL|\n",
      "|           HV0003|              B02875|2021-01-01 00:40:12|2021-01-01 00:53:31|         255|         232|   NULL|\n",
      "|           HV0003|              B02875|2021-01-01 00:56:45|2021-01-01 01:17:42|         232|         198|   NULL|\n",
      "|           HV0003|              B02835|2021-01-01 00:29:04|2021-01-01 00:36:27|         113|          48|   NULL|\n",
      "|           HV0003|              B02835|2021-01-01 00:48:56|2021-01-01 00:59:12|         239|          75|   NULL|\n",
      "|           HV0004|              B02800|2021-01-01 00:15:24|2021-01-01 00:38:31|         181|         237|   NULL|\n",
      "|           HV0004|              B02800|2021-01-01 00:45:00|2021-01-01 01:06:45|         236|          68|   NULL|\n",
      "|           HV0003|              B02682|2021-01-01 00:11:53|2021-01-01 00:18:06|         256|         148|   NULL|\n",
      "|           HV0003|              B02682|2021-01-01 00:28:31|2021-01-01 00:41:40|          79|          80|   NULL|\n",
      "|           HV0003|              B02682|2021-01-01 00:50:49|2021-01-01 00:55:59|          17|         217|   NULL|\n",
      "|           HV0005|              B02510|2021-01-01 00:08:40|2021-01-01 00:39:39|          62|          29|   NULL|\n",
      "|           HV0003|              B02836|2021-01-01 00:53:48|2021-01-01 01:11:40|          22|          22|   NULL|\n",
      "+-----------------+--------------------+-------------------+-------------------+------------+------------+-------+\n",
      "only showing top 20 rows\n",
      "\n"
     ]
    }
   ],
   "source": [
    "df = spark.read \\\n",
    "    .option(\"header\", \"true\") \\\n",
    "    .csv('fhvhv_tripdata_2021-01.csv.gz')\n",
    "\n",
    "df.show()"
   ]
  },
  {
   "cell_type": "code",
   "execution_count": 6,
   "id": "f2846b1c",
   "metadata": {},
   "outputs": [
    {
     "data": {
      "text/plain": [
       "StructType([StructField('hvfhs_license_num', StringType(), True), StructField('dispatching_base_num', StringType(), True), StructField('pickup_datetime', StringType(), True), StructField('dropoff_datetime', StringType(), True), StructField('PULocationID', StringType(), True), StructField('DOLocationID', StringType(), True), StructField('SR_Flag', StringType(), True)])"
      ]
     },
     "execution_count": 6,
     "metadata": {},
     "output_type": "execute_result"
    }
   ],
   "source": [
    "df.schema"
   ]
  },
  {
   "cell_type": "code",
   "execution_count": 7,
   "id": "177a640a",
   "metadata": {},
   "outputs": [
    {
     "data": {
      "text/html": [
       "<div>\n",
       "<style scoped>\n",
       "    .dataframe tbody tr th:only-of-type {\n",
       "        vertical-align: middle;\n",
       "    }\n",
       "\n",
       "    .dataframe tbody tr th {\n",
       "        vertical-align: top;\n",
       "    }\n",
       "\n",
       "    .dataframe thead th {\n",
       "        text-align: right;\n",
       "    }\n",
       "</style>\n",
       "<table border=\"1\" class=\"dataframe\">\n",
       "  <thead>\n",
       "    <tr style=\"text-align: right;\">\n",
       "      <th></th>\n",
       "      <th>hvfhs_license_num</th>\n",
       "      <th>dispatching_base_num</th>\n",
       "      <th>pickup_datetime</th>\n",
       "      <th>dropoff_datetime</th>\n",
       "      <th>PULocationID</th>\n",
       "      <th>DOLocationID</th>\n",
       "      <th>SR_Flag</th>\n",
       "    </tr>\n",
       "  </thead>\n",
       "  <tbody>\n",
       "    <tr>\n",
       "      <th>0</th>\n",
       "      <td>HV0003</td>\n",
       "      <td>B02682</td>\n",
       "      <td>2021-01-01 00:33:44</td>\n",
       "      <td>2021-01-01 00:49:07</td>\n",
       "      <td>230</td>\n",
       "      <td>166</td>\n",
       "      <td>NaN</td>\n",
       "    </tr>\n",
       "    <tr>\n",
       "      <th>1</th>\n",
       "      <td>HV0003</td>\n",
       "      <td>B02682</td>\n",
       "      <td>2021-01-01 00:55:19</td>\n",
       "      <td>2021-01-01 01:18:21</td>\n",
       "      <td>152</td>\n",
       "      <td>167</td>\n",
       "      <td>NaN</td>\n",
       "    </tr>\n",
       "    <tr>\n",
       "      <th>2</th>\n",
       "      <td>HV0003</td>\n",
       "      <td>B02764</td>\n",
       "      <td>2021-01-01 00:23:56</td>\n",
       "      <td>2021-01-01 00:38:05</td>\n",
       "      <td>233</td>\n",
       "      <td>142</td>\n",
       "      <td>NaN</td>\n",
       "    </tr>\n",
       "    <tr>\n",
       "      <th>3</th>\n",
       "      <td>HV0003</td>\n",
       "      <td>B02764</td>\n",
       "      <td>2021-01-01 00:42:51</td>\n",
       "      <td>2021-01-01 00:45:50</td>\n",
       "      <td>142</td>\n",
       "      <td>143</td>\n",
       "      <td>NaN</td>\n",
       "    </tr>\n",
       "    <tr>\n",
       "      <th>4</th>\n",
       "      <td>HV0003</td>\n",
       "      <td>B02764</td>\n",
       "      <td>2021-01-01 00:48:14</td>\n",
       "      <td>2021-01-01 01:08:42</td>\n",
       "      <td>143</td>\n",
       "      <td>78</td>\n",
       "      <td>NaN</td>\n",
       "    </tr>\n",
       "    <tr>\n",
       "      <th>...</th>\n",
       "      <td>...</td>\n",
       "      <td>...</td>\n",
       "      <td>...</td>\n",
       "      <td>...</td>\n",
       "      <td>...</td>\n",
       "      <td>...</td>\n",
       "      <td>...</td>\n",
       "    </tr>\n",
       "    <tr>\n",
       "      <th>995</th>\n",
       "      <td>HV0003</td>\n",
       "      <td>B02871</td>\n",
       "      <td>2021-01-01 00:33:43</td>\n",
       "      <td>2021-01-01 00:47:52</td>\n",
       "      <td>255</td>\n",
       "      <td>61</td>\n",
       "      <td>NaN</td>\n",
       "    </tr>\n",
       "    <tr>\n",
       "      <th>996</th>\n",
       "      <td>HV0005</td>\n",
       "      <td>B02510</td>\n",
       "      <td>2021-01-01 00:53:10</td>\n",
       "      <td>2021-01-01 01:21:09</td>\n",
       "      <td>114</td>\n",
       "      <td>21</td>\n",
       "      <td>NaN</td>\n",
       "    </tr>\n",
       "    <tr>\n",
       "      <th>997</th>\n",
       "      <td>HV0003</td>\n",
       "      <td>B02512</td>\n",
       "      <td>2021-01-01 00:18:35</td>\n",
       "      <td>2021-01-01 00:26:53</td>\n",
       "      <td>167</td>\n",
       "      <td>42</td>\n",
       "      <td>NaN</td>\n",
       "    </tr>\n",
       "    <tr>\n",
       "      <th>998</th>\n",
       "      <td>HV0003</td>\n",
       "      <td>B02512</td>\n",
       "      <td>2021-01-01 00:35:39</td>\n",
       "      <td>2021-01-01 00:42:59</td>\n",
       "      <td>116</td>\n",
       "      <td>116</td>\n",
       "      <td>NaN</td>\n",
       "    </tr>\n",
       "    <tr>\n",
       "      <th>999</th>\n",
       "      <td>HV0003</td>\n",
       "      <td>B02512</td>\n",
       "      <td>2021-01-01 00:44:54</td>\n",
       "      <td>2021-01-01 01:15:59</td>\n",
       "      <td>116</td>\n",
       "      <td>132</td>\n",
       "      <td>NaN</td>\n",
       "    </tr>\n",
       "  </tbody>\n",
       "</table>\n",
       "<p>1000 rows × 7 columns</p>\n",
       "</div>"
      ],
      "text/plain": [
       "    hvfhs_license_num dispatching_base_num      pickup_datetime  \\\n",
       "0              HV0003               B02682  2021-01-01 00:33:44   \n",
       "1              HV0003               B02682  2021-01-01 00:55:19   \n",
       "2              HV0003               B02764  2021-01-01 00:23:56   \n",
       "3              HV0003               B02764  2021-01-01 00:42:51   \n",
       "4              HV0003               B02764  2021-01-01 00:48:14   \n",
       "..                ...                  ...                  ...   \n",
       "995            HV0003               B02871  2021-01-01 00:33:43   \n",
       "996            HV0005               B02510  2021-01-01 00:53:10   \n",
       "997            HV0003               B02512  2021-01-01 00:18:35   \n",
       "998            HV0003               B02512  2021-01-01 00:35:39   \n",
       "999            HV0003               B02512  2021-01-01 00:44:54   \n",
       "\n",
       "        dropoff_datetime  PULocationID  DOLocationID  SR_Flag  \n",
       "0    2021-01-01 00:49:07           230           166      NaN  \n",
       "1    2021-01-01 01:18:21           152           167      NaN  \n",
       "2    2021-01-01 00:38:05           233           142      NaN  \n",
       "3    2021-01-01 00:45:50           142           143      NaN  \n",
       "4    2021-01-01 01:08:42           143            78      NaN  \n",
       "..                   ...           ...           ...      ...  \n",
       "995  2021-01-01 00:47:52           255            61      NaN  \n",
       "996  2021-01-01 01:21:09           114            21      NaN  \n",
       "997  2021-01-01 00:26:53           167            42      NaN  \n",
       "998  2021-01-01 00:42:59           116           116      NaN  \n",
       "999  2021-01-01 01:15:59           116           132      NaN  \n",
       "\n",
       "[1000 rows x 7 columns]"
      ]
     },
     "execution_count": 7,
     "metadata": {},
     "output_type": "execute_result"
    }
   ],
   "source": [
    "df_pandas = pd.read_csv('fhvhv_tripdata_2021-01.csv.gz', nrows = 1000)\n",
    "\n",
    "df_pandas"
   ]
  },
  {
   "cell_type": "code",
   "execution_count": 8,
   "id": "c33a865d",
   "metadata": {},
   "outputs": [
    {
     "data": {
      "text/plain": [
       "hvfhs_license_num        object\n",
       "dispatching_base_num     object\n",
       "pickup_datetime          object\n",
       "dropoff_datetime         object\n",
       "PULocationID              int64\n",
       "DOLocationID              int64\n",
       "SR_Flag                 float64\n",
       "dtype: object"
      ]
     },
     "execution_count": 8,
     "metadata": {},
     "output_type": "execute_result"
    }
   ],
   "source": [
    "df_pandas.dtypes"
   ]
  },
  {
   "cell_type": "code",
   "execution_count": 30,
   "id": "499534c1",
   "metadata": {},
   "outputs": [],
   "source": [
    "from pyspark.sql import types"
   ]
  },
  {
   "cell_type": "code",
   "execution_count": 9,
   "id": "7844021e",
   "metadata": {},
   "outputs": [
    {
     "data": {
      "text/plain": [
       "StructType([StructField('hvfhs_license_num', StringType(), True), StructField('dispatching_base_num', StringType(), True), StructField('pickup_datetime', StringType(), True), StructField('dropoff_datetime', StringType(), True), StructField('PULocationID', LongType(), True), StructField('DOLocationID', LongType(), True), StructField('SR_Flag', DoubleType(), True)])"
      ]
     },
     "execution_count": 9,
     "metadata": {},
     "output_type": "execute_result"
    }
   ],
   "source": [
    "spark.createDataFrame(df_pandas).schema"
   ]
  },
  {
   "cell_type": "code",
   "execution_count": 10,
   "id": "7099542e",
   "metadata": {},
   "outputs": [],
   "source": [
    "schema = types.StructType([\n",
    "    types.StructField('hvfhs_license_num', types.StringType(), True),\n",
    "    types.StructField('dispatching_base_num', types.StringType(), True),\n",
    "    types.StructField('pickup_datetime', types.TimestampType(), True),\n",
    "    types.StructField('dropoff_datetime', types.TimestampType(), True),\n",
    "    types.StructField('PULocationID', types.IntegerType(), True),\n",
    "    types.StructField('DOLocationID', types.IntegerType(), True),\n",
    "    types.StructField('SR_Flag', types.StringType(), True)\n",
    "])"
   ]
  },
  {
   "cell_type": "code",
   "execution_count": 11,
   "id": "f017e90d",
   "metadata": {},
   "outputs": [],
   "source": [
    "df = spark.read \\\n",
    "    .option(\"header\", \"true\") \\\n",
    "    .schema(schema) \\\n",
    "    .csv('fhvhv_tripdata_2021-01.csv.gz')"
   ]
  },
  {
   "cell_type": "code",
   "execution_count": 12,
   "id": "f56a14f1",
   "metadata": {},
   "outputs": [
    {
     "data": {
      "text/plain": [
       "[('hvfhs_license_num', 'string'),\n",
       " ('dispatching_base_num', 'string'),\n",
       " ('pickup_datetime', 'timestamp'),\n",
       " ('dropoff_datetime', 'timestamp'),\n",
       " ('PULocationID', 'int'),\n",
       " ('DOLocationID', 'int'),\n",
       " ('SR_Flag', 'string')]"
      ]
     },
     "execution_count": 12,
     "metadata": {},
     "output_type": "execute_result"
    }
   ],
   "source": [
    "df.dtypes"
   ]
  },
  {
   "cell_type": "code",
   "execution_count": 13,
   "id": "a4b842a3",
   "metadata": {},
   "outputs": [],
   "source": [
    "df = df.repartition(24)"
   ]
  },
  {
   "cell_type": "code",
   "execution_count": 14,
   "id": "a8ab0321",
   "metadata": {},
   "outputs": [],
   "source": [
    "df.write.parquet('fhvhv/2021/01')"
   ]
  },
  {
   "cell_type": "code",
   "execution_count": 15,
   "id": "220b4430",
   "metadata": {},
   "outputs": [],
   "source": [
    "df = spark.read.parquet('fhvhv/2021/01')"
   ]
  },
  {
   "cell_type": "code",
   "execution_count": 17,
   "id": "248636ae",
   "metadata": {},
   "outputs": [
    {
     "name": "stdout",
     "output_type": "stream",
     "text": [
      "+-----------------+--------------------+-------------------+-------------------+------------+------------+-------+\n",
      "|hvfhs_license_num|dispatching_base_num|    pickup_datetime|   dropoff_datetime|PULocationID|DOLocationID|SR_Flag|\n",
      "+-----------------+--------------------+-------------------+-------------------+------------+------------+-------+\n",
      "|           HV0005|              B02510|2021-01-30 04:13:09|2021-01-30 04:26:02|         261|          50|   NULL|\n",
      "|           HV0003|              B02871|2021-01-14 08:25:44|2021-01-14 08:35:06|           4|          88|   NULL|\n",
      "|           HV0003|              B02883|2021-01-30 23:31:39|2021-01-30 23:45:53|          78|          81|   NULL|\n",
      "|           HV0005|              B02510|2021-01-16 17:51:42|2021-01-16 18:05:49|         213|          58|   NULL|\n",
      "|           HV0003|              B02882|2021-01-23 15:33:08|2021-01-23 15:53:39|         188|         188|   NULL|\n",
      "|           HV0005|              B02510|2021-01-04 15:08:11|2021-01-04 15:18:02|          17|          17|   NULL|\n",
      "|           HV0003|              B02871|2021-01-24 14:26:54|2021-01-24 14:37:41|         228|         195|   NULL|\n",
      "|           HV0003|              B02871|2021-01-12 07:49:18|2021-01-12 08:11:06|         216|         196|   NULL|\n",
      "|           HV0003|              B02889|2021-01-08 11:54:39|2021-01-08 12:09:38|          26|          26|   NULL|\n",
      "|           HV0005|              B02510|2021-01-02 11:31:29|2021-01-02 11:37:35|          28|         130|   NULL|\n",
      "|           HV0003|              B02764|2021-01-22 21:05:18|2021-01-22 21:30:05|         159|         265|   NULL|\n",
      "|           HV0003|              B02764|2021-01-12 14:56:25|2021-01-12 15:14:23|          50|         145|   NULL|\n",
      "|           HV0005|              B02510|2021-01-28 06:52:00|2021-01-28 06:59:03|         140|         141|   NULL|\n",
      "|           HV0003|              B02764|2021-01-29 11:21:53|2021-01-29 11:31:07|         236|         162|   NULL|\n",
      "|           HV0003|              B02877|2021-01-31 08:13:26|2021-01-31 08:16:01|         168|         147|   NULL|\n",
      "|           HV0005|              B02510|2021-01-14 17:39:16|2021-01-14 17:52:20|          97|          17|   NULL|\n",
      "|           HV0005|              B02510|2021-01-11 14:50:57|2021-01-11 14:58:37|         155|         210|   NULL|\n",
      "|           HV0005|              B02510|2021-01-05 17:05:34|2021-01-05 17:12:08|          17|         225|   NULL|\n",
      "|           HV0003|              B02875|2021-01-04 18:05:26|2021-01-04 18:26:59|          85|          39|   NULL|\n",
      "|           HV0005|              B02510|2021-01-03 17:26:53|2021-01-03 17:43:05|         156|         187|   NULL|\n",
      "+-----------------+--------------------+-------------------+-------------------+------------+------------+-------+\n",
      "only showing top 20 rows\n",
      "\n"
     ]
    }
   ],
   "source": [
    "df.show()"
   ]
  },
  {
   "cell_type": "code",
   "execution_count": 18,
   "id": "939871fe",
   "metadata": {},
   "outputs": [
    {
     "name": "stdout",
     "output_type": "stream",
     "text": [
      "root\n",
      " |-- hvfhs_license_num: string (nullable = true)\n",
      " |-- dispatching_base_num: string (nullable = true)\n",
      " |-- pickup_datetime: timestamp (nullable = true)\n",
      " |-- dropoff_datetime: timestamp (nullable = true)\n",
      " |-- PULocationID: integer (nullable = true)\n",
      " |-- DOLocationID: integer (nullable = true)\n",
      " |-- SR_Flag: string (nullable = true)\n",
      "\n"
     ]
    }
   ],
   "source": [
    "df.printSchema()"
   ]
  },
  {
   "cell_type": "code",
   "execution_count": 22,
   "id": "8d9fd353",
   "metadata": {},
   "outputs": [
    {
     "name": "stdout",
     "output_type": "stream",
     "text": [
      "+-------------------+-------------------+------------+------------+\n",
      "|    pickup_datetime|   dropoff_datetime|PULocationID|DOLocationID|\n",
      "+-------------------+-------------------+------------+------------+\n",
      "|2021-01-14 08:25:44|2021-01-14 08:35:06|           4|          88|\n",
      "|2021-01-30 23:31:39|2021-01-30 23:45:53|          78|          81|\n",
      "|2021-01-23 15:33:08|2021-01-23 15:53:39|         188|         188|\n",
      "|2021-01-24 14:26:54|2021-01-24 14:37:41|         228|         195|\n",
      "|2021-01-12 07:49:18|2021-01-12 08:11:06|         216|         196|\n",
      "|2021-01-08 11:54:39|2021-01-08 12:09:38|          26|          26|\n",
      "|2021-01-22 21:05:18|2021-01-22 21:30:05|         159|         265|\n",
      "|2021-01-12 14:56:25|2021-01-12 15:14:23|          50|         145|\n",
      "|2021-01-29 11:21:53|2021-01-29 11:31:07|         236|         162|\n",
      "|2021-01-31 08:13:26|2021-01-31 08:16:01|         168|         147|\n",
      "|2021-01-04 18:05:26|2021-01-04 18:26:59|          85|          39|\n",
      "|2021-01-16 10:07:19|2021-01-16 10:11:07|         159|         167|\n",
      "|2021-01-23 23:10:06|2021-01-23 23:12:48|         182|         182|\n",
      "|2021-01-13 13:00:57|2021-01-13 13:26:41|         258|          80|\n",
      "|2021-01-22 16:39:22|2021-01-22 17:04:14|         250|         241|\n",
      "|2021-01-08 07:46:04|2021-01-08 08:04:13|         167|         259|\n",
      "|2021-01-21 07:33:23|2021-01-21 07:51:35|         213|         243|\n",
      "|2021-01-03 14:05:52|2021-01-03 14:20:29|         183|          20|\n",
      "|2021-01-21 15:07:15|2021-01-21 15:33:44|         100|          66|\n",
      "|2021-01-17 06:17:29|2021-01-17 06:35:41|          32|         126|\n",
      "+-------------------+-------------------+------------+------------+\n",
      "only showing top 20 rows\n",
      "\n"
     ]
    }
   ],
   "source": [
    "df.select('pickup_datetime', 'dropoff_datetime', 'PULocationID', 'DOLocationID').filter(df.hvfhs_license_num == 'HV0003').show()"
   ]
  },
  {
   "cell_type": "code",
   "execution_count": 23,
   "id": "850d53cf",
   "metadata": {},
   "outputs": [],
   "source": [
    "from pyspark.sql import functions as F"
   ]
  },
  {
   "cell_type": "code",
   "execution_count": 29,
   "id": "80d7db08",
   "metadata": {},
   "outputs": [
    {
     "name": "stdout",
     "output_type": "stream",
     "text": [
      "+-----------+------------+------------+------------+\n",
      "|pickup_date|dropoff_date|PULocationID|DOLocationID|\n",
      "+-----------+------------+------------+------------+\n",
      "| 2021-01-30|  2021-01-30|         261|          50|\n",
      "| 2021-01-14|  2021-01-14|           4|          88|\n",
      "| 2021-01-30|  2021-01-30|          78|          81|\n",
      "| 2021-01-16|  2021-01-16|         213|          58|\n",
      "| 2021-01-23|  2021-01-23|         188|         188|\n",
      "| 2021-01-04|  2021-01-04|          17|          17|\n",
      "| 2021-01-24|  2021-01-24|         228|         195|\n",
      "| 2021-01-12|  2021-01-12|         216|         196|\n",
      "| 2021-01-08|  2021-01-08|          26|          26|\n",
      "| 2021-01-02|  2021-01-02|          28|         130|\n",
      "| 2021-01-22|  2021-01-22|         159|         265|\n",
      "| 2021-01-12|  2021-01-12|          50|         145|\n",
      "| 2021-01-28|  2021-01-28|         140|         141|\n",
      "| 2021-01-29|  2021-01-29|         236|         162|\n",
      "| 2021-01-31|  2021-01-31|         168|         147|\n",
      "| 2021-01-14|  2021-01-14|          97|          17|\n",
      "| 2021-01-11|  2021-01-11|         155|         210|\n",
      "| 2021-01-05|  2021-01-05|          17|         225|\n",
      "| 2021-01-04|  2021-01-04|          85|          39|\n",
      "| 2021-01-03|  2021-01-03|         156|         187|\n",
      "+-----------+------------+------------+------------+\n",
      "only showing top 20 rows\n",
      "\n"
     ]
    }
   ],
   "source": [
    "df\\\n",
    "    .withColumn('pickup_date', F.to_date(df.pickup_datetime)) \\\n",
    "    .withColumn('dropoff_date', F.to_date(df.dropoff_datetime)) \\\n",
    "    .select('pickup_date', 'dropoff_date', 'PULocationID', 'DOLocationID') \\\n",
    "    .show()"
   ]
  }
 ],
 "metadata": {
  "kernelspec": {
   "display_name": "Python 3 (ipykernel)",
   "language": "python",
   "name": "python3"
  },
  "language_info": {
   "codemirror_mode": {
    "name": "ipython",
    "version": 3
   },
   "file_extension": ".py",
   "mimetype": "text/x-python",
   "name": "python",
   "nbconvert_exporter": "python",
   "pygments_lexer": "ipython3",
   "version": "3.11.5"
  }
 },
 "nbformat": 4,
 "nbformat_minor": 5
}
